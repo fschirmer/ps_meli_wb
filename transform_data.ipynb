{
 "cells": [
  {
   "cell_type": "code",
   "execution_count": 13,
   "id": "682f2736-fff2-46bd-8f20-25c459689e1b",
   "metadata": {},
   "outputs": [
    {
     "ename": "ValueError",
     "evalue": "value_name (Value) cannot match an element in the DataFrame columns.",
     "output_type": "error",
     "traceback": [
      "\u001b[0;31m---------------------------------------------------------------------------\u001b[0m",
      "\u001b[0;31mValueError\u001b[0m                                Traceback (most recent call last)",
      "Cell \u001b[0;32mIn[13], line 20\u001b[0m\n\u001b[1;32m     17\u001b[0m df_filtered_year \u001b[38;5;241m=\u001b[39m df_long[df_long[\u001b[38;5;124m\"\u001b[39m\u001b[38;5;124mYear\u001b[39m\u001b[38;5;124m\"\u001b[39m] \u001b[38;5;241m>\u001b[39m\u001b[38;5;241m=\u001b[39m \u001b[38;5;241m1990\u001b[39m]\n\u001b[1;32m     19\u001b[0m \u001b[38;5;66;03m# Converter para formato long (transformar anos em uma única coluna)\u001b[39;00m\n\u001b[0;32m---> 20\u001b[0m df_long \u001b[38;5;241m=\u001b[39m \u001b[43mdf_filtered_year\u001b[49m\u001b[38;5;241;43m.\u001b[39;49m\u001b[43mmelt\u001b[49m\u001b[43m(\u001b[49m\n\u001b[1;32m     21\u001b[0m \u001b[43m    \u001b[49m\u001b[43mid_vars\u001b[49m\u001b[38;5;241;43m=\u001b[39;49m\u001b[43m[\u001b[49m\u001b[38;5;124;43m\"\u001b[39;49m\u001b[38;5;124;43mCountry Name\u001b[39;49m\u001b[38;5;124;43m\"\u001b[39;49m\u001b[43m,\u001b[49m\u001b[43m \u001b[49m\u001b[38;5;124;43m\"\u001b[39;49m\u001b[38;5;124;43mCountry Code\u001b[39;49m\u001b[38;5;124;43m\"\u001b[39;49m\u001b[43m,\u001b[49m\u001b[43m \u001b[49m\u001b[38;5;124;43m\"\u001b[39;49m\u001b[38;5;124;43mIndicator Name\u001b[39;49m\u001b[38;5;124;43m\"\u001b[39;49m\u001b[43m,\u001b[49m\u001b[43m \u001b[49m\u001b[38;5;124;43m\"\u001b[39;49m\u001b[38;5;124;43mIndicator Code\u001b[39;49m\u001b[38;5;124;43m\"\u001b[39;49m\u001b[43m]\u001b[49m\u001b[43m,\u001b[49m\u001b[43m \u001b[49m\n\u001b[1;32m     22\u001b[0m \u001b[43m    \u001b[49m\u001b[43mvar_name\u001b[49m\u001b[38;5;241;43m=\u001b[39;49m\u001b[38;5;124;43m\"\u001b[39;49m\u001b[38;5;124;43mYear\u001b[39;49m\u001b[38;5;124;43m\"\u001b[39;49m\u001b[43m,\u001b[49m\u001b[43m \u001b[49m\n\u001b[1;32m     23\u001b[0m \u001b[43m    \u001b[49m\u001b[43mvalue_name\u001b[49m\u001b[38;5;241;43m=\u001b[39;49m\u001b[38;5;124;43m\"\u001b[39;49m\u001b[38;5;124;43mValue\u001b[39;49m\u001b[38;5;124;43m\"\u001b[39;49m\n\u001b[1;32m     24\u001b[0m \u001b[43m)\u001b[49m\n\u001b[1;32m     26\u001b[0m \u001b[38;5;66;03m# Converter o ano para número\u001b[39;00m\n\u001b[1;32m     27\u001b[0m df_long[\u001b[38;5;124m\"\u001b[39m\u001b[38;5;124mYear\u001b[39m\u001b[38;5;124m\"\u001b[39m] \u001b[38;5;241m=\u001b[39m pd\u001b[38;5;241m.\u001b[39mto_numeric(df_long[\u001b[38;5;124m\"\u001b[39m\u001b[38;5;124mYear\u001b[39m\u001b[38;5;124m\"\u001b[39m], errors\u001b[38;5;241m=\u001b[39m\u001b[38;5;124m\"\u001b[39m\u001b[38;5;124mcoerce\u001b[39m\u001b[38;5;124m\"\u001b[39m)\n",
      "File \u001b[0;32m/Library/Frameworks/Python.framework/Versions/3.11/lib/python3.11/site-packages/pandas/core/frame.py:9636\u001b[0m, in \u001b[0;36mDataFrame.melt\u001b[0;34m(self, id_vars, value_vars, var_name, value_name, col_level, ignore_index)\u001b[0m\n\u001b[1;32m   9626\u001b[0m \u001b[38;5;129m@Appender\u001b[39m(_shared_docs[\u001b[38;5;124m\"\u001b[39m\u001b[38;5;124mmelt\u001b[39m\u001b[38;5;124m\"\u001b[39m] \u001b[38;5;241m%\u001b[39m {\u001b[38;5;124m\"\u001b[39m\u001b[38;5;124mcaller\u001b[39m\u001b[38;5;124m\"\u001b[39m: \u001b[38;5;124m\"\u001b[39m\u001b[38;5;124mdf.melt(\u001b[39m\u001b[38;5;124m\"\u001b[39m, \u001b[38;5;124m\"\u001b[39m\u001b[38;5;124mother\u001b[39m\u001b[38;5;124m\"\u001b[39m: \u001b[38;5;124m\"\u001b[39m\u001b[38;5;124mmelt\u001b[39m\u001b[38;5;124m\"\u001b[39m})\n\u001b[1;32m   9627\u001b[0m \u001b[38;5;28;01mdef\u001b[39;00m \u001b[38;5;21mmelt\u001b[39m(\n\u001b[1;32m   9628\u001b[0m     \u001b[38;5;28mself\u001b[39m,\n\u001b[0;32m   (...)\u001b[0m\n\u001b[1;32m   9634\u001b[0m     ignore_index: \u001b[38;5;28mbool\u001b[39m \u001b[38;5;241m=\u001b[39m \u001b[38;5;28;01mTrue\u001b[39;00m,\n\u001b[1;32m   9635\u001b[0m ) \u001b[38;5;241m-\u001b[39m\u001b[38;5;241m>\u001b[39m DataFrame:\n\u001b[0;32m-> 9636\u001b[0m     \u001b[38;5;28;01mreturn\u001b[39;00m \u001b[43mmelt\u001b[49m\u001b[43m(\u001b[49m\n\u001b[1;32m   9637\u001b[0m \u001b[43m        \u001b[49m\u001b[38;5;28;43mself\u001b[39;49m\u001b[43m,\u001b[49m\n\u001b[1;32m   9638\u001b[0m \u001b[43m        \u001b[49m\u001b[43mid_vars\u001b[49m\u001b[38;5;241;43m=\u001b[39;49m\u001b[43mid_vars\u001b[49m\u001b[43m,\u001b[49m\n\u001b[1;32m   9639\u001b[0m \u001b[43m        \u001b[49m\u001b[43mvalue_vars\u001b[49m\u001b[38;5;241;43m=\u001b[39;49m\u001b[43mvalue_vars\u001b[49m\u001b[43m,\u001b[49m\n\u001b[1;32m   9640\u001b[0m \u001b[43m        \u001b[49m\u001b[43mvar_name\u001b[49m\u001b[38;5;241;43m=\u001b[39;49m\u001b[43mvar_name\u001b[49m\u001b[43m,\u001b[49m\n\u001b[1;32m   9641\u001b[0m \u001b[43m        \u001b[49m\u001b[43mvalue_name\u001b[49m\u001b[38;5;241;43m=\u001b[39;49m\u001b[43mvalue_name\u001b[49m\u001b[43m,\u001b[49m\n\u001b[1;32m   9642\u001b[0m \u001b[43m        \u001b[49m\u001b[43mcol_level\u001b[49m\u001b[38;5;241;43m=\u001b[39;49m\u001b[43mcol_level\u001b[49m\u001b[43m,\u001b[49m\n\u001b[1;32m   9643\u001b[0m \u001b[43m        \u001b[49m\u001b[43mignore_index\u001b[49m\u001b[38;5;241;43m=\u001b[39;49m\u001b[43mignore_index\u001b[49m\u001b[43m,\u001b[49m\n\u001b[1;32m   9644\u001b[0m \u001b[43m    \u001b[49m\u001b[43m)\u001b[49m\u001b[38;5;241m.\u001b[39m__finalize__(\u001b[38;5;28mself\u001b[39m, method\u001b[38;5;241m=\u001b[39m\u001b[38;5;124m\"\u001b[39m\u001b[38;5;124mmelt\u001b[39m\u001b[38;5;124m\"\u001b[39m)\n",
      "File \u001b[0;32m/Library/Frameworks/Python.framework/Versions/3.11/lib/python3.11/site-packages/pandas/core/reshape/melt.py:52\u001b[0m, in \u001b[0;36mmelt\u001b[0;34m(frame, id_vars, value_vars, var_name, value_name, col_level, ignore_index)\u001b[0m\n\u001b[1;32m     49\u001b[0m     cols \u001b[38;5;241m=\u001b[39m \u001b[38;5;28mlist\u001b[39m(frame\u001b[38;5;241m.\u001b[39mcolumns)\n\u001b[1;32m     51\u001b[0m \u001b[38;5;28;01mif\u001b[39;00m value_name \u001b[38;5;129;01min\u001b[39;00m frame\u001b[38;5;241m.\u001b[39mcolumns:\n\u001b[0;32m---> 52\u001b[0m     \u001b[38;5;28;01mraise\u001b[39;00m \u001b[38;5;167;01mValueError\u001b[39;00m(\n\u001b[1;32m     53\u001b[0m         \u001b[38;5;124mf\u001b[39m\u001b[38;5;124m\"\u001b[39m\u001b[38;5;124mvalue_name (\u001b[39m\u001b[38;5;132;01m{\u001b[39;00mvalue_name\u001b[38;5;132;01m}\u001b[39;00m\u001b[38;5;124m) cannot match an element in \u001b[39m\u001b[38;5;124m\"\u001b[39m\n\u001b[1;32m     54\u001b[0m         \u001b[38;5;124m\"\u001b[39m\u001b[38;5;124mthe DataFrame columns.\u001b[39m\u001b[38;5;124m\"\u001b[39m\n\u001b[1;32m     55\u001b[0m     )\n\u001b[1;32m     57\u001b[0m \u001b[38;5;28;01mif\u001b[39;00m id_vars \u001b[38;5;129;01mis\u001b[39;00m \u001b[38;5;129;01mnot\u001b[39;00m \u001b[38;5;28;01mNone\u001b[39;00m:\n\u001b[1;32m     58\u001b[0m     \u001b[38;5;28;01mif\u001b[39;00m \u001b[38;5;129;01mnot\u001b[39;00m is_list_like(id_vars):\n",
      "\u001b[0;31mValueError\u001b[0m: value_name (Value) cannot match an element in the DataFrame columns."
     ]
    }
   ],
   "source": [
    "import pandas as pd\n",
    "\n",
    "\n",
    "# Lista de arquivos CSV\n",
    "arquivos = [\"files/API_EG.ELC.ACCS.ZS_DS2_en_csv_v2_76137.csv\",\n",
    "            \"files/API_IT.NET.USER.ZS_DS2_en_csv_v2_76190.csv\",\n",
    "            \"files/API_SL.UEM.TOTL.ZS_DS2_en_csv_v2_76234.csv\",\n",
    "            \"files/API_NY.GDP.PCAP.CD_DS2_en_csv_v2_76317.csv\",\n",
    "            \"files/API_SP.POP.TOTL_DS2_en_csv_v2_76253.csv\"]\n",
    "\n",
    "# Ler e concatenar os arquivos em um loop\n",
    "df_lista = [pd.read_csv(arquivo) for arquivo in arquivos]\n",
    "df_concatenado = pd.concat(df_lista, ignore_index=True)\n",
    "\n",
    "# Aplicar filtros\n",
    "df_filtered_country = df_concatenado[df_concatenado[\"Country Name\"] == \"Argentina\"]\n",
    "\n",
    "# Converter para formato long (transformar anos em uma única coluna)\n",
    "df_long = df_filtered_year.melt(\n",
    "    id_vars=[\"Country Name\", \"Country Code\", \"Indicator Name\", \"Indicator Code\"], \n",
    "    var_name=\"Year\", \n",
    "    value_name=\"Value\"\n",
    ")\n",
    "\n",
    "# Converter o ano para número\n",
    "df_long[\"Year\"] = pd.to_numeric(df_long[\"Year\"], errors=\"coerce\")\n",
    "\n",
    "# Remover anos vazios\n",
    "df_long = df_long.dropna(subset=[\"Year\"])\n",
    "\n",
    "# Transformar de long para wide (Ano na linha, Indicadores em colunas)\n",
    "df_wide = df_long.pivot_table(\n",
    "    index=[\"Country Name\", \"Country Code\", \"Year\"], \n",
    "    columns=\"Indicator Name\", \n",
    "    values=\"Value\"\n",
    ").reset_index()\n",
    "\n",
    "# Salvar ou visualizar\n",
    "df_wide.to_csv(\"dados_transformados.csv\", index=False)\n",
    "\n"
   ]
  },
  {
   "cell_type": "code",
   "execution_count": 14,
   "id": "bb687118-f19d-4f88-9a3b-90673ddf95fc",
   "metadata": {},
   "outputs": [],
   "source": [
    "import pandas as pd\n",
    "\n",
    "\n",
    "# Lista de arquivos CSV\n",
    "arquivos = [\"files/API_EG.ELC.ACCS.ZS_DS2_en_csv_v2_76137.csv\",\n",
    "            \"files/API_IT.NET.USER.ZS_DS2_en_csv_v2_76190.csv\",\n",
    "            \"files/API_SL.UEM.TOTL.ZS_DS2_en_csv_v2_76234.csv\",\n",
    "            \"files/API_NY.GDP.PCAP.CD_DS2_en_csv_v2_76317.csv\",\n",
    "            \"files/API_SP.POP.TOTL_DS2_en_csv_v2_76253.csv\"]\n",
    "\n",
    "# Ler e concatenar os arquivos em um loop\n",
    "df_lista = [pd.read_csv(arquivo) for arquivo in arquivos]\n",
    "df_concatenado = pd.concat(df_lista, ignore_index=True)\n",
    "\n",
    "# Aplicar filtros\n",
    "df_filtered_country = df_concatenado[df_concatenado[\"Country Name\"] == \"Argentina\"]\n",
    "\n",
    "# Converter para formato long (transformar anos em uma única coluna)\n",
    "df_long = df_filtered_country.melt(\n",
    "    id_vars=[\"Country Name\", \"Country Code\", \"Indicator Name\", \"Indicator Code\"], \n",
    "    var_name=\"Year\", \n",
    "    value_name=\"Value\"\n",
    ")\n",
    "\n",
    "# Converter o ano para número\n",
    "df_long[\"Year\"] = pd.to_numeric(df_long[\"Year\"], errors=\"coerce\")\n",
    "\n",
    "# Remover anos vazios\n",
    "df_long = df_long.dropna(subset=[\"Year\"])\n",
    "\n",
    "# Filtrar dados para manter apenas anos a partir de 1990\n",
    "df_long = df_long[df_long[\"Year\"] >= 1990]\n",
    "\n",
    "# Transformar de long para wide (Ano na linha, Indicadores em colunas)\n",
    "df_wide = df_long.pivot_table(\n",
    "    index=[\"Country Name\", \"Country Code\", \"Year\"], \n",
    "    columns=\"Indicator Name\", \n",
    "    values=\"Value\"\n",
    ").reset_index()\n",
    "\n",
    "# Salvar ou visualizar\n",
    "df_wide.to_csv(\"dados_transformados.csv\", index=False)\n"
   ]
  },
  {
   "cell_type": "code",
   "execution_count": null,
   "id": "c308c016-7161-4558-af65-3dc222417301",
   "metadata": {},
   "outputs": [],
   "source": []
  }
 ],
 "metadata": {
  "kernelspec": {
   "display_name": "Python 3 (ipykernel) (Local)",
   "language": "python",
   "name": "python3"
  },
  "language_info": {
   "codemirror_mode": {
    "name": "ipython",
    "version": 3
   },
   "file_extension": ".py",
   "mimetype": "text/x-python",
   "name": "python",
   "nbconvert_exporter": "python",
   "pygments_lexer": "ipython3",
   "version": "3.11.6"
  }
 },
 "nbformat": 4,
 "nbformat_minor": 5
}
