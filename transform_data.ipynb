{
 "cells": [
  {
   "cell_type": "code",
   "execution_count": 14,
   "id": "bb687118-f19d-4f88-9a3b-90673ddf95fc",
   "metadata": {},
   "outputs": [],
   "source": [
    "import pandas as pd\n",
    "\n",
    "\n",
    "# Lista de arquivos CSV\n",
    "arquivos = [\"files/API_EG.ELC.ACCS.ZS_DS2_en_csv_v2_76137.csv\",\n",
    "            \"files/API_IT.NET.USER.ZS_DS2_en_csv_v2_76190.csv\",\n",
    "            \"files/API_SL.UEM.TOTL.ZS_DS2_en_csv_v2_76234.csv\",\n",
    "            \"files/API_NY.GDP.PCAP.CD_DS2_en_csv_v2_76317.csv\",\n",
    "            \"files/API_SP.POP.TOTL_DS2_en_csv_v2_76253.csv\"]\n",
    "\n",
    "# Ler e concatenar os arquivos em um loop\n",
    "df_lista = [pd.read_csv(arquivo) for arquivo in arquivos]\n",
    "df_concatenado = pd.concat(df_lista, ignore_index=True)\n",
    "\n",
    "# Aplicar filtros\n",
    "df_filtered_country = df_concatenado[df_concatenado[\"Country Name\"] == \"Argentina\"]\n",
    "\n",
    "# Converter para formato long (transformar anos em uma única coluna)\n",
    "df_long = df_filtered_country.melt(\n",
    "    id_vars=[\"Country Name\", \"Country Code\", \"Indicator Name\", \"Indicator Code\"], \n",
    "    var_name=\"Year\", \n",
    "    value_name=\"Value\"\n",
    ")\n",
    "\n",
    "# Converter o ano para número\n",
    "df_long[\"Year\"] = pd.to_numeric(df_long[\"Year\"], errors=\"coerce\")\n",
    "\n",
    "# Remover anos vazios\n",
    "df_long = df_long.dropna(subset=[\"Year\"])\n",
    "\n",
    "# Filtrar dados para manter apenas anos a partir de 1990\n",
    "df_long = df_long[df_long[\"Year\"] >= 1990]\n",
    "\n",
    "# Transformar de long para wide (Ano na linha, Indicadores em colunas)\n",
    "df_wide = df_long.pivot_table(\n",
    "    index=[\"Country Name\", \"Country Code\", \"Year\"], \n",
    "    columns=\"Indicator Name\", \n",
    "    values=\"Value\"\n",
    ").reset_index()\n",
    "\n",
    "# Salvar ou visualizar\n",
    "df_wide.to_csv(\"dados_transformados.csv\", index=False)\n"
   ]
  },
  {
   "cell_type": "code",
   "execution_count": null,
   "id": "c308c016-7161-4558-af65-3dc222417301",
   "metadata": {},
   "outputs": [],
   "source": []
  }
 ],
 "metadata": {
  "kernelspec": {
   "display_name": "Python 3 (ipykernel) (Local)",
   "language": "python",
   "name": "python3"
  },
  "language_info": {
   "codemirror_mode": {
    "name": "ipython",
    "version": 3
   },
   "file_extension": ".py",
   "mimetype": "text/x-python",
   "name": "python",
   "nbconvert_exporter": "python",
   "pygments_lexer": "ipython3",
   "version": "3.11.6"
  }
 },
 "nbformat": 4,
 "nbformat_minor": 5
}
